{
 "cells": [
  {
   "cell_type": "code",
   "execution_count": 1,
   "metadata": {},
   "outputs": [],
   "source": [
    "import pandas as pd\n",
    "import numpy as np\n",
    "import warnings\n",
    "warnings.filterwarnings('ignore')"
   ]
  },
  {
   "cell_type": "code",
   "execution_count": 2,
   "metadata": {},
   "outputs": [],
   "source": [
    "df = pd.read_csv('reviews.csv')\n",
    "df.review = df.review.astype(str)"
   ]
  },
  {
   "cell_type": "code",
   "execution_count": 3,
   "metadata": {},
   "outputs": [],
   "source": [
    "df.drop('Unnamed: 0', axis = 1, inplace = True)"
   ]
  },
  {
   "cell_type": "code",
   "execution_count": 4,
   "metadata": {},
   "outputs": [
    {
     "data": {
      "text/html": [
       "<div>\n",
       "<style scoped>\n",
       "    .dataframe tbody tr th:only-of-type {\n",
       "        vertical-align: middle;\n",
       "    }\n",
       "\n",
       "    .dataframe tbody tr th {\n",
       "        vertical-align: top;\n",
       "    }\n",
       "\n",
       "    .dataframe thead th {\n",
       "        text-align: right;\n",
       "    }\n",
       "</style>\n",
       "<table border=\"1\" class=\"dataframe\">\n",
       "  <thead>\n",
       "    <tr style=\"text-align: right;\">\n",
       "      <th></th>\n",
       "      <th>product_name</th>\n",
       "      <th>review</th>\n",
       "      <th>user_rating</th>\n",
       "    </tr>\n",
       "  </thead>\n",
       "  <tbody>\n",
       "    <tr>\n",
       "      <td>0</td>\n",
       "      <td>Kentucky Brunch Brand Stout</td>\n",
       "      <td>2016 Silver Wax. Aroma has whiskey, maple, tof...</td>\n",
       "      <td>4.80</td>\n",
       "    </tr>\n",
       "    <tr>\n",
       "      <td>1</td>\n",
       "      <td>Kentucky Brunch Brand Stout</td>\n",
       "      <td>The beer pours Pitch Black with a frothy tan h...</td>\n",
       "      <td>4.74</td>\n",
       "    </tr>\n",
       "    <tr>\n",
       "      <td>2</td>\n",
       "      <td>Kentucky Brunch Brand Stout</td>\n",
       "      <td>Probably the smoothest beer I have ever had. S...</td>\n",
       "      <td>4.68</td>\n",
       "    </tr>\n",
       "    <tr>\n",
       "      <td>3</td>\n",
       "      <td>Kentucky Brunch Brand Stout</td>\n",
       "      <td>Dark black, very thick, a little bit of tan he...</td>\n",
       "      <td>5.00</td>\n",
       "    </tr>\n",
       "    <tr>\n",
       "      <td>4</td>\n",
       "      <td>Kentucky Brunch Brand Stout</td>\n",
       "      <td>Poured black as ink with thin ruby edges at 58...</td>\n",
       "      <td>4.97</td>\n",
       "    </tr>\n",
       "  </tbody>\n",
       "</table>\n",
       "</div>"
      ],
      "text/plain": [
       "                  product_name  \\\n",
       "0  Kentucky Brunch Brand Stout   \n",
       "1  Kentucky Brunch Brand Stout   \n",
       "2  Kentucky Brunch Brand Stout   \n",
       "3  Kentucky Brunch Brand Stout   \n",
       "4  Kentucky Brunch Brand Stout   \n",
       "\n",
       "                                              review  user_rating  \n",
       "0  2016 Silver Wax. Aroma has whiskey, maple, tof...         4.80  \n",
       "1  The beer pours Pitch Black with a frothy tan h...         4.74  \n",
       "2  Probably the smoothest beer I have ever had. S...         4.68  \n",
       "3  Dark black, very thick, a little bit of tan he...         5.00  \n",
       "4  Poured black as ink with thin ruby edges at 58...         4.97  "
      ]
     },
     "execution_count": 4,
     "metadata": {},
     "output_type": "execute_result"
    }
   ],
   "source": [
    "df.head()"
   ]
  },
  {
   "cell_type": "code",
   "execution_count": 5,
   "metadata": {},
   "outputs": [],
   "source": [
    "final_df = df.copy()"
   ]
  },
  {
   "cell_type": "markdown",
   "metadata": {},
   "source": [
    "### Part B"
   ]
  },
  {
   "cell_type": "code",
   "execution_count": 6,
   "metadata": {},
   "outputs": [],
   "source": [
    "from nltk.corpus import stopwords\n",
    "from nltk.tokenize import word_tokenize\n",
    "from nltk.tokenize import RegexpTokenizer\n",
    "stops = set(stopwords.words('english'))\n",
    "tokenizer = RegexpTokenizer(r'\\w+')\n",
    "def clean(s):\n",
    "    s = s.lower()\n",
    "    s_token = tokenizer.tokenize(s)\n",
    "    s_filtered = [w for w in s_token if not w in stops]\n",
    "    return s_filtered"
   ]
  },
  {
   "cell_type": "code",
   "execution_count": 7,
   "metadata": {},
   "outputs": [],
   "source": [
    "df['review_tokenized'] = df['review'].apply(clean)"
   ]
  },
  {
   "cell_type": "code",
   "execution_count": 8,
   "metadata": {},
   "outputs": [],
   "source": [
    "from collections import Counter\n",
    "\n",
    "def get_counts(s):\n",
    "    return Counter(s)"
   ]
  },
  {
   "cell_type": "code",
   "execution_count": 9,
   "metadata": {},
   "outputs": [],
   "source": [
    "df['word_counts'] = df['review_tokenized'].apply(get_counts)"
   ]
  },
  {
   "cell_type": "code",
   "execution_count": 10,
   "metadata": {},
   "outputs": [],
   "source": [
    "attribute_counts = {'aggressive':0, 'balanced':0, 'complex':0, 'crisp':0, 'fruity':0, 'hoppy':0, 'malty':0, 'robust':0}\n",
    "def count_attributes(s):\n",
    "    for key in s.keys():\n",
    "        if key in attribute_counts:\n",
    "            attribute_counts[key] += 1"
   ]
  },
  {
   "cell_type": "code",
   "execution_count": 11,
   "metadata": {
    "scrolled": false
   },
   "outputs": [
    {
     "name": "stdout",
     "output_type": "stream",
     "text": [
      "{'aggressive': 79, 'balanced': 764, 'complex': 544, 'crisp': 285, 'fruity': 442, 'hoppy': 228, 'malty': 164, 'robust': 103}\n"
     ]
    }
   ],
   "source": [
    "df['word_counts'].apply(count_attributes)\n",
    "print(attribute_counts)"
   ]
  },
  {
   "cell_type": "code",
   "execution_count": 12,
   "metadata": {},
   "outputs": [],
   "source": [
    "attribute_list = ['balanced', 'complex', 'fruity']"
   ]
  },
  {
   "cell_type": "markdown",
   "metadata": {},
   "source": [
    "### Part C"
   ]
  },
  {
   "cell_type": "code",
   "execution_count": 13,
   "metadata": {},
   "outputs": [],
   "source": [
    "import spacy\n",
    "nlp = spacy.load(\"en\")"
   ]
  },
  {
   "cell_type": "code",
   "execution_count": 14,
   "metadata": {},
   "outputs": [],
   "source": [
    "def get_sim_score(s):\n",
    "    doc1 = nlp(s)\n",
    "    doc2 = nlp(\"fruity complex balanced\")\n",
    "    return doc1.similarity(doc2)"
   ]
  },
  {
   "cell_type": "code",
   "execution_count": 15,
   "metadata": {},
   "outputs": [],
   "source": [
    "temp = df['review'].apply(get_sim_score)"
   ]
  },
  {
   "cell_type": "code",
   "execution_count": 16,
   "metadata": {},
   "outputs": [],
   "source": [
    "df['similarity'] = temp"
   ]
  },
  {
   "cell_type": "code",
   "execution_count": 17,
   "metadata": {},
   "outputs": [],
   "source": [
    "df_top_300 = df.sort_values(by = 'similarity', ascending = False)[:300]"
   ]
  },
  {
   "cell_type": "markdown",
   "metadata": {},
   "source": [
    "### Part D"
   ]
  },
  {
   "cell_type": "code",
   "execution_count": 18,
   "metadata": {},
   "outputs": [],
   "source": [
    "df['clean_review'] = df['review'].apply(lambda x: \" \".join(x.lower() for x in x.split()))\n",
    "df['clean_review'] = df['clean_review'].str.replace('[^\\w\\s]','')\n",
    "df['clean_review'] = df['clean_review'].str.replace('[\\d]','')\n",
    "df['clean_review'] = df['clean_review'].apply(lambda x: \" \".join(x for x in x.split() if x not in stops))"
   ]
  },
  {
   "cell_type": "code",
   "execution_count": 19,
   "metadata": {},
   "outputs": [],
   "source": [
    "from nltk.stem import PorterStemmer\n",
    "st = PorterStemmer()\n",
    "df['clean_review'] = df['clean_review'].apply(lambda x: \" \".join([st.stem(word) for word in x.split()]))"
   ]
  },
  {
   "cell_type": "code",
   "execution_count": 20,
   "metadata": {},
   "outputs": [],
   "source": [
    "from textblob import TextBlob\n",
    "\n",
    "def sentiment(s):\n",
    "    return TextBlob(s).sentiment[0]\n",
    "\n",
    "df['sentiment_score'] = df['clean_review'].apply(sentiment)"
   ]
  },
  {
   "cell_type": "code",
   "execution_count": 21,
   "metadata": {},
   "outputs": [
    {
     "data": {
      "text/html": [
       "<div>\n",
       "<style scoped>\n",
       "    .dataframe tbody tr th:only-of-type {\n",
       "        vertical-align: middle;\n",
       "    }\n",
       "\n",
       "    .dataframe tbody tr th {\n",
       "        vertical-align: top;\n",
       "    }\n",
       "\n",
       "    .dataframe thead th {\n",
       "        text-align: right;\n",
       "    }\n",
       "</style>\n",
       "<table border=\"1\" class=\"dataframe\">\n",
       "  <thead>\n",
       "    <tr style=\"text-align: right;\">\n",
       "      <th></th>\n",
       "      <th>user_rating</th>\n",
       "      <th>similarity</th>\n",
       "      <th>sentiment_score</th>\n",
       "    </tr>\n",
       "    <tr>\n",
       "      <th>product_name</th>\n",
       "      <th></th>\n",
       "      <th></th>\n",
       "      <th></th>\n",
       "    </tr>\n",
       "  </thead>\n",
       "  <tbody>\n",
       "    <tr>\n",
       "      <td>Haze</td>\n",
       "      <td>4.99</td>\n",
       "      <td>0.524277</td>\n",
       "      <td>1.000000</td>\n",
       "    </tr>\n",
       "    <tr>\n",
       "      <td>Fou' Foune</td>\n",
       "      <td>4.90</td>\n",
       "      <td>0.282876</td>\n",
       "      <td>1.000000</td>\n",
       "    </tr>\n",
       "    <tr>\n",
       "      <td>Vicinity</td>\n",
       "      <td>4.96</td>\n",
       "      <td>0.469715</td>\n",
       "      <td>1.000000</td>\n",
       "    </tr>\n",
       "    <tr>\n",
       "      <td>A Deal With The Devil</td>\n",
       "      <td>5.00</td>\n",
       "      <td>0.351575</td>\n",
       "      <td>1.000000</td>\n",
       "    </tr>\n",
       "    <tr>\n",
       "      <td>Green</td>\n",
       "      <td>4.60</td>\n",
       "      <td>0.430825</td>\n",
       "      <td>1.000000</td>\n",
       "    </tr>\n",
       "    <tr>\n",
       "      <td>...</td>\n",
       "      <td>...</td>\n",
       "      <td>...</td>\n",
       "      <td>...</td>\n",
       "    </tr>\n",
       "    <tr>\n",
       "      <td>V.S.O.J.</td>\n",
       "      <td>4.36</td>\n",
       "      <td>0.478472</td>\n",
       "      <td>-0.500000</td>\n",
       "    </tr>\n",
       "    <tr>\n",
       "      <td>Galaxy Dry Hopped Fort Point Pale Ale</td>\n",
       "      <td>4.75</td>\n",
       "      <td>0.424284</td>\n",
       "      <td>-0.650000</td>\n",
       "    </tr>\n",
       "    <tr>\n",
       "      <td>The Rusty Nail</td>\n",
       "      <td>4.50</td>\n",
       "      <td>0.548587</td>\n",
       "      <td>-0.714286</td>\n",
       "    </tr>\n",
       "    <tr>\n",
       "      <td>Somewhere, Something Incredible Is Waiting To Be Known</td>\n",
       "      <td>4.52</td>\n",
       "      <td>0.421191</td>\n",
       "      <td>-0.800000</td>\n",
       "    </tr>\n",
       "    <tr>\n",
       "      <td>Parabajava</td>\n",
       "      <td>4.34</td>\n",
       "      <td>0.549037</td>\n",
       "      <td>-0.800000</td>\n",
       "    </tr>\n",
       "  </tbody>\n",
       "</table>\n",
       "<p>6210 rows × 3 columns</p>\n",
       "</div>"
      ],
      "text/plain": [
       "                                                    user_rating  similarity  \\\n",
       "product_name                                                                  \n",
       "Haze                                                       4.99    0.524277   \n",
       "Fou' Foune                                                 4.90    0.282876   \n",
       "Vicinity                                                   4.96    0.469715   \n",
       "A Deal With The Devil                                      5.00    0.351575   \n",
       "Green                                                      4.60    0.430825   \n",
       "...                                                         ...         ...   \n",
       "V.S.O.J.                                                   4.36    0.478472   \n",
       "Galaxy Dry Hopped Fort Point Pale Ale                      4.75    0.424284   \n",
       "The Rusty Nail                                             4.50    0.548587   \n",
       "Somewhere, Something Incredible Is Waiting To B...         4.52    0.421191   \n",
       "Parabajava                                                 4.34    0.549037   \n",
       "\n",
       "                                                    sentiment_score  \n",
       "product_name                                                         \n",
       "Haze                                                       1.000000  \n",
       "Fou' Foune                                                 1.000000  \n",
       "Vicinity                                                   1.000000  \n",
       "A Deal With The Devil                                      1.000000  \n",
       "Green                                                      1.000000  \n",
       "...                                                             ...  \n",
       "V.S.O.J.                                                  -0.500000  \n",
       "Galaxy Dry Hopped Fort Point Pale Ale                     -0.650000  \n",
       "The Rusty Nail                                            -0.714286  \n",
       "Somewhere, Something Incredible Is Waiting To B...        -0.800000  \n",
       "Parabajava                                                -0.800000  \n",
       "\n",
       "[6210 rows x 3 columns]"
      ]
     },
     "execution_count": 21,
     "metadata": {},
     "output_type": "execute_result"
    }
   ],
   "source": [
    "df_copy = df[['product_name', 'user_rating', 'similarity', 'sentiment_score']].set_index('product_name')\n",
    "df_copy.sort_values(by = 'sentiment_score', ascending = False)"
   ]
  },
  {
   "cell_type": "markdown",
   "metadata": {},
   "source": [
    "### Part E"
   ]
  },
  {
   "cell_type": "code",
   "execution_count": 22,
   "metadata": {
    "scrolled": false
   },
   "outputs": [
    {
     "data": {
      "text/html": [
       "<div>\n",
       "<style scoped>\n",
       "    .dataframe tbody tr th:only-of-type {\n",
       "        vertical-align: middle;\n",
       "    }\n",
       "\n",
       "    .dataframe tbody tr th {\n",
       "        vertical-align: top;\n",
       "    }\n",
       "\n",
       "    .dataframe thead th {\n",
       "        text-align: right;\n",
       "    }\n",
       "</style>\n",
       "<table border=\"1\" class=\"dataframe\">\n",
       "  <thead>\n",
       "    <tr style=\"text-align: right;\">\n",
       "      <th></th>\n",
       "      <th>user_rating</th>\n",
       "      <th>similarity</th>\n",
       "      <th>sentiment_score</th>\n",
       "    </tr>\n",
       "    <tr>\n",
       "      <th>product_name</th>\n",
       "      <th></th>\n",
       "      <th></th>\n",
       "      <th></th>\n",
       "    </tr>\n",
       "  </thead>\n",
       "  <tbody>\n",
       "    <tr>\n",
       "      <td>Great</td>\n",
       "      <td>4.5732</td>\n",
       "      <td>0.520491</td>\n",
       "      <td>0.297944</td>\n",
       "    </tr>\n",
       "    <tr>\n",
       "      <td>Zenne Y Frontera</td>\n",
       "      <td>4.7640</td>\n",
       "      <td>0.510925</td>\n",
       "      <td>0.291894</td>\n",
       "    </tr>\n",
       "    <tr>\n",
       "      <td>Citraquench'l</td>\n",
       "      <td>4.5208</td>\n",
       "      <td>0.549336</td>\n",
       "      <td>0.285191</td>\n",
       "    </tr>\n",
       "  </tbody>\n",
       "</table>\n",
       "</div>"
      ],
      "text/plain": [
       "                  user_rating  similarity  sentiment_score\n",
       "product_name                                              \n",
       "Great                  4.5732    0.520491         0.297944\n",
       "Zenne Y Frontera       4.7640    0.510925         0.291894\n",
       "Citraquench'l          4.5208    0.549336         0.285191"
      ]
     },
     "execution_count": 22,
     "metadata": {},
     "output_type": "execute_result"
    }
   ],
   "source": [
    "df_group = df_copy.groupby('product_name')[['user_rating', 'similarity', 'sentiment_score']].mean()\n",
    "df_group.sort_values(by='sentiment_score', ascending = False)[:3]"
   ]
  },
  {
   "cell_type": "markdown",
   "metadata": {},
   "source": [
    "We would recommend a customer who is looking for a balanced, complex, and fruity beer to try either the Great, the Zenne Y Frontera, or the Citraquench'l. This recommendation was derived by finding the beers with the most positive reviews that were similar to the features the customer was looking for."
   ]
  },
  {
   "cell_type": "markdown",
   "metadata": {},
   "source": [
    "### Part F"
   ]
  },
  {
   "cell_type": "code",
   "execution_count": 27,
   "metadata": {
    "scrolled": true
   },
   "outputs": [],
   "source": [
    "df_group_og = pd.DataFrame(final_df.groupby('product_name')['user_rating'].mean())\n",
    "#df_group_og.sort_values(by='user_rating', ascending=False)[:3]"
   ]
  },
  {
   "cell_type": "code",
   "execution_count": 29,
   "metadata": {},
   "outputs": [],
   "source": [
    "merged = pd.merge(df_group, df_group_og, left_index=True, right_index=True)\n",
    "merged.drop('user_rating_y',inplace=True, axis=1)"
   ]
  },
  {
   "cell_type": "code",
   "execution_count": 30,
   "metadata": {},
   "outputs": [],
   "source": [
    "merged.columns=['user_rating','similarity','sentiment_score']"
   ]
  },
  {
   "cell_type": "code",
   "execution_count": 31,
   "metadata": {},
   "outputs": [
    {
     "data": {
      "text/html": [
       "<div>\n",
       "<style scoped>\n",
       "    .dataframe tbody tr th:only-of-type {\n",
       "        vertical-align: middle;\n",
       "    }\n",
       "\n",
       "    .dataframe tbody tr th {\n",
       "        vertical-align: top;\n",
       "    }\n",
       "\n",
       "    .dataframe thead th {\n",
       "        text-align: right;\n",
       "    }\n",
       "</style>\n",
       "<table border=\"1\" class=\"dataframe\">\n",
       "  <thead>\n",
       "    <tr style=\"text-align: right;\">\n",
       "      <th></th>\n",
       "      <th>user_rating</th>\n",
       "      <th>similarity</th>\n",
       "      <th>sentiment_score</th>\n",
       "    </tr>\n",
       "    <tr>\n",
       "      <th>product_name</th>\n",
       "      <th></th>\n",
       "      <th></th>\n",
       "      <th></th>\n",
       "    </tr>\n",
       "  </thead>\n",
       "  <tbody>\n",
       "    <tr>\n",
       "      <td>Kentucky Brunch Brand Stout</td>\n",
       "      <td>4.812000</td>\n",
       "      <td>0.491261</td>\n",
       "      <td>0.235450</td>\n",
       "    </tr>\n",
       "    <tr>\n",
       "      <td>Chemtrailmix</td>\n",
       "      <td>4.811176</td>\n",
       "      <td>0.509298</td>\n",
       "      <td>0.248880</td>\n",
       "    </tr>\n",
       "    <tr>\n",
       "      <td>Barrel-Aged Abraxas</td>\n",
       "      <td>4.796400</td>\n",
       "      <td>0.516758</td>\n",
       "      <td>0.190927</td>\n",
       "    </tr>\n",
       "  </tbody>\n",
       "</table>\n",
       "</div>"
      ],
      "text/plain": [
       "                             user_rating  similarity  sentiment_score\n",
       "product_name                                                         \n",
       "Kentucky Brunch Brand Stout     4.812000    0.491261         0.235450\n",
       "Chemtrailmix                    4.811176    0.509298         0.248880\n",
       "Barrel-Aged Abraxas             4.796400    0.516758         0.190927"
      ]
     },
     "execution_count": 31,
     "metadata": {},
     "output_type": "execute_result"
    }
   ],
   "source": [
    "merged.sort_values(by='user_rating', ascending=False)[:3]"
   ]
  },
  {
   "cell_type": "markdown",
   "metadata": {},
   "source": [
    "If we ignore the similarity and sentiment scores, we would recommend three completely different beers. The beers that we would recommend would be Kentucky Brunch Brand Stout, Chemtrailmix, and Barrel-Aged Abraxas. Neither the similarity scores nor the sentiment scores are on par with the original three recommendations. In fact, you can see that the sentiment scores for these beers are significantly lower, though the user_ratings are the three highest in the data set. Probably most important to note would be the similarity scores though. If a user specificies the types of attributes that are most important to the types of beers that that person likes then you would want to build a recommendation system that recommends beers that cater to those attributes. Thus, these three beers above would clearly not fit the bill for this user."
   ]
  }
 ],
 "metadata": {
  "kernelspec": {
   "display_name": "p36workshop",
   "language": "python",
   "name": "p36workshop"
  },
  "language_info": {
   "codemirror_mode": {
    "name": "ipython",
    "version": 3
   },
   "file_extension": ".py",
   "mimetype": "text/x-python",
   "name": "python",
   "nbconvert_exporter": "python",
   "pygments_lexer": "ipython3",
   "version": "3.6.8"
  }
 },
 "nbformat": 4,
 "nbformat_minor": 2
}
