{
 "cells": [
  {
   "cell_type": "code",
   "execution_count": 1,
   "metadata": {},
   "outputs": [],
   "source": [
    "%matplotlib inline\n",
    "### Selenium file for scraping user reviews ###\n",
    "\n",
    "from selenium import webdriver\n",
    "from selenium.webdriver.common.by import By\n",
    "from selenium.webdriver.support.ui import WebDriverWait\n",
    "from selenium.webdriver.support import expected_conditions as EC\n",
    "import time\n",
    "import csv\n",
    "\n",
    "import pandas as pd"
   ]
  },
  {
   "cell_type": "code",
   "execution_count": 109,
   "metadata": {},
   "outputs": [],
   "source": [
    "driver = webdriver.Chrome(r\"C:\\Users\\jakeh\\Downloads\\chromedriver_win32\\chromedriver.exe\")\n",
    "\n",
    "#open up the page\n",
    "driver.get('https://www.beeradvocate.com/beer/top-rated/')\n",
    "\n",
    "urls = []\n",
    "\n",
    "m = 2\n",
    "while m < 252:\n",
    "    url_element = driver.find_element_by_xpath(\"/html/body/div[2]/div/div[2]/div[2]/div[2]/div/div/div[3]/div/div/div[2]/table/tbody/tr[\"+ str(m) + \"]/td[2]/a\")\n",
    "    url = url_element.get_attribute(\"href\")\n",
    "    urls.append(url)\n",
    "    m+=1\n",
    "    \n",
    "driver.close()"
   ]
  },
  {
   "cell_type": "code",
   "execution_count": 113,
   "metadata": {},
   "outputs": [],
   "source": [
    "# print(urls)"
   ]
  },
  {
   "cell_type": "code",
   "execution_count": 117,
   "metadata": {},
   "outputs": [
    {
     "data": {
      "text/plain": [
       "['https://www.beeradvocate.com/beer/profile/23222/78820/',\n",
       " 'https://www.beeradvocate.com/beer/profile/26/42349/',\n",
       " 'https://www.beeradvocate.com/beer/profile/17981/110635/']"
      ]
     },
     "execution_count": 117,
     "metadata": {},
     "output_type": "execute_result"
    }
   ],
   "source": [
    "test_urls = urls[:3]\n",
    "test_urls"
   ]
  },
  {
   "cell_type": "code",
   "execution_count": 122,
   "metadata": {},
   "outputs": [],
   "source": [
    "driver = webdriver.Chrome(r\"C:\\Users\\jakeh\\Downloads\\chromedriver_win32\\chromedriver.exe\")\n",
    "#open up the page\n",
    "driver.get('https://www.beeradvocate.com/beer/top-rated/')\n",
    "\n",
    "product_names = []\n",
    "user_ratings = []\n",
    "reviews = []\n",
    "for url in urls:\n",
    "    \n",
    "    # loop through pages\n",
    "    driver.get(url)\n",
    "    driver.implicitly_wait(3)\n",
    "    \n",
    "    # for product names\n",
    "    \n",
    "    product_name_element = driver.find_element_by_xpath(\"//*[contains(@class,'titleBar')]\")\n",
    "    product_name_str = product_name_element.text\n",
    "    product_name = product_name_str.splitlines()[0]\n",
    "\n",
    "    comments = driver.find_elements_by_xpath(\"//*[contains(@class,'user-comment')]\")\n",
    "    \n",
    "    j = 0\n",
    "    # to get ratings, reviews, and create list of product names\n",
    "    for i in comments:\n",
    "        # product names\n",
    "        product_names.append(product_name)\n",
    "        \n",
    "        # ratings\n",
    "        user_rating_element = driver.find_elements_by_xpath(\"//*[contains(@class,'BAscore_norm')]\")[j]\n",
    "        user_rating = user_rating_element.text\n",
    "        user_ratings.append(user_rating)\n",
    "        \n",
    "        # for reviews\n",
    "        review_element = driver.find_element_by_xpath(\"/html/body/div[2]/div/div[2]/div[2]/div[2]/div/div/div[3]/div/div/div[2]/div[8]/div/div[\" + str(j+1) + \"]/div[2]\")\n",
    "        review = review_element.text\n",
    "\n",
    "        review = review.splitlines()[3:-4]\n",
    "\n",
    "        m = 0\n",
    "        for i in review:\n",
    "            if i == '':\n",
    "                del review[m]\n",
    "            m+=1\n",
    "\n",
    "        review = ' '.join(review)\n",
    "\n",
    "        reviews.append(review)\n",
    "        j+=1\n",
    "\n",
    "driver.close()"
   ]
  },
  {
   "cell_type": "code",
   "execution_count": 124,
   "metadata": {},
   "outputs": [],
   "source": [
    "reviews = pd.DataFrame(list(zip(product_names, reviews, user_ratings)), columns = ['product_name', 'review', 'user_rating']) "
   ]
  },
  {
   "cell_type": "code",
   "execution_count": 125,
   "metadata": {},
   "outputs": [
    {
     "data": {
      "text/html": [
       "<div>\n",
       "<style scoped>\n",
       "    .dataframe tbody tr th:only-of-type {\n",
       "        vertical-align: middle;\n",
       "    }\n",
       "\n",
       "    .dataframe tbody tr th {\n",
       "        vertical-align: top;\n",
       "    }\n",
       "\n",
       "    .dataframe thead th {\n",
       "        text-align: right;\n",
       "    }\n",
       "</style>\n",
       "<table border=\"1\" class=\"dataframe\">\n",
       "  <thead>\n",
       "    <tr style=\"text-align: right;\">\n",
       "      <th></th>\n",
       "      <th>product_name</th>\n",
       "      <th>review</th>\n",
       "      <th>user_rating</th>\n",
       "    </tr>\n",
       "  </thead>\n",
       "  <tbody>\n",
       "    <tr>\n",
       "      <td>0</td>\n",
       "      <td>Kentucky Brunch Brand Stout</td>\n",
       "      <td>2016 Silver Wax. Aroma has whiskey, maple, tof...</td>\n",
       "      <td>4.8</td>\n",
       "    </tr>\n",
       "    <tr>\n",
       "      <td>1</td>\n",
       "      <td>Kentucky Brunch Brand Stout</td>\n",
       "      <td>The beer pours Pitch Black with a frothy tan h...</td>\n",
       "      <td>4.74</td>\n",
       "    </tr>\n",
       "    <tr>\n",
       "      <td>2</td>\n",
       "      <td>Kentucky Brunch Brand Stout</td>\n",
       "      <td>Probably the smoothest beer I have ever had. S...</td>\n",
       "      <td>4.68</td>\n",
       "    </tr>\n",
       "    <tr>\n",
       "      <td>3</td>\n",
       "      <td>Kentucky Brunch Brand Stout</td>\n",
       "      <td>Dark black, very thick, a little bit of tan he...</td>\n",
       "      <td>5</td>\n",
       "    </tr>\n",
       "    <tr>\n",
       "      <td>4</td>\n",
       "      <td>Kentucky Brunch Brand Stout</td>\n",
       "      <td>Poured black as ink with thin ruby edges at 58...</td>\n",
       "      <td>4.97</td>\n",
       "    </tr>\n",
       "  </tbody>\n",
       "</table>\n",
       "</div>"
      ],
      "text/plain": [
       "                  product_name  \\\n",
       "0  Kentucky Brunch Brand Stout   \n",
       "1  Kentucky Brunch Brand Stout   \n",
       "2  Kentucky Brunch Brand Stout   \n",
       "3  Kentucky Brunch Brand Stout   \n",
       "4  Kentucky Brunch Brand Stout   \n",
       "\n",
       "                                              review user_rating  \n",
       "0  2016 Silver Wax. Aroma has whiskey, maple, tof...         4.8  \n",
       "1  The beer pours Pitch Black with a frothy tan h...        4.74  \n",
       "2  Probably the smoothest beer I have ever had. S...        4.68  \n",
       "3  Dark black, very thick, a little bit of tan he...           5  \n",
       "4  Poured black as ink with thin ruby edges at 58...        4.97  "
      ]
     },
     "execution_count": 125,
     "metadata": {},
     "output_type": "execute_result"
    }
   ],
   "source": [
    "reviews.head()"
   ]
  },
  {
   "cell_type": "code",
   "execution_count": 126,
   "metadata": {},
   "outputs": [],
   "source": [
    "reviews.to_csv('reviews.csv')"
   ]
  },
  {
   "cell_type": "code",
   "execution_count": 102,
   "metadata": {},
   "outputs": [
    {
     "name": "stdout",
     "output_type": "stream",
     "text": [
      "['2016 Silver Wax. Aroma has whiskey, maple, toffee and umami. Taste has wood barrel, umami, dark fruit, maple and toffee. Bitter cacao and coffee aftertaste.', 'The beer pours Pitch Black with a frothy tan head. The bottle gushed when I opened it. It smells and tastes of maple syrup, coffee, creams brûlée, vanilla, and warm bourbon. The feel is slick and smooth.', \"Probably the smoothest beer I have ever had. Smelled better than it tasted. Lots of notes on the nose from vanilla to caramel/Maple to figs, but the taste didn't follow suit and it mostly being Maple supported by the others notes on the nose and barrel. No discernible alcohol present but the bourbon flavor was there from start to finish. Carbonation was lacking and would have helped the beer. Overall this was an excellent beer on par with Mexican Cake Reserva.\", \"Dark black, very thick, a little bit of tan head. Smells amazing - coffee and a little bit of maple jump out at you, along with chocolate and vanilla and other sweet smells. The taste is no letdown either, coffee is more up front, and maple is on the back end, with a lot of caramel / chocolate / dark fruit in the middle. Super thick mouthfeel with zero alcohol burn. I was fully prepared to be disappointed by this beer - not that I expected it to be bad, but just that it might not blow me away. I was wrong. Probably the best beer I've ever had.\", 'Poured black as ink with thin ruby edges at 58 degrees; fast fizzy cinnamon brown head; no cap retention, ring or lace; medium legs on swirl. Strong maple nose with molasses and roast coffee grind right behind. Sweet maple syrup and molasses up front; bitter roast coffee; dark fruit - cherries and plums with chocolate middle; no booze; maple and coffee on backend. Thick almost chewy feel; heavy full body; rich velvety tongue coating; no barrel or astringency; warming from 12%; creamy feel/linger on tongue. Overall awesome; strong long lasting maple nose; main flavors are in harmony; subtle dark fruit and chocolate notes add layers complimenting the whole; no hint of whiskey or barrel notes; and the feel is superb; world class!', 'she’s got heat....but man is she somethin nice! lots of barrel presence. maple goodness on the nose. thick and chewy. flavor is all barrel, booze and molasses. What a treat.', 'Amazing brew. The maple aroma pours out of this bottle upon cracking. The pour was pitch black with a nice brownish red head. Carbonation holds and the beer is thicc AF', \"Finally got to try the white whale. Pours like syrup, smells like syrup. Seems like it should be just a perfect beer, but I don't think TG does coffee as well as the other best breweries. I definitely got some green pepper.\", 'Had this on tap at the 12-15-18 release in Decorah. The aroma on this was amazing and was a step above the flavor. This beer is a very good mix of coffee, barrel and maple but just shy of a perfect rating. Maybe because the expectations are so crazy high?', 'Had this on tap At the KBBS release 12/15/18 pour was super dark, no head even when i attempted to swirl it. great aroma, lots of coffee and barrel. Taste was silky velvety smooth. Overall an amazing beer.', \"Great beer, but didn't seem to be worth the hype. For a $1000 secondary market, should have been perfect, and just failed to miss the mark for me. The nose was incredible, but the taste almost had a metallic tinge to it.\", \"Batch one, 2013, Enjoyed at GAB bottle share Pitch black thick oily rich, thick legs, touch of head Nose loads of maple thick dark chocolate, cocoa, hint Smokey, roasty coffee, coffee syrup, nice barrel vanilla and thick maple, vanilla ice cream Taste velvety creamy smooth thick dark chocolate, cocoa, big maple syrup, vanilla ice cream, touch of Smokey, roasty coffee, lurker nutty coffee and hint of bitterness, mild toasted oak vanilla barrel, no booze, earthy coffee late, thick dark chocolate Mouth is thick rich creamy, velvety smooth, no alcohol Overall incredible! Easily one of best beers I've ever had.\", \"Pouring with a thick viscosity that's damn near reduced balsamic, a blackish-brown gloss begins coating my companion's lips at first sip, like she's gone full goth. A uniform, dark mocha blanket builds over top of the void black body, but that quickly fizzles out, leaving nothing but brown staining legs that coat the glass with a swirl. Hypnotizing aromas of deep, dark smoky maple swirl into a luscious malt that brings to mind dark cocoa wafer and mocha. A surprising barrel presence graces the nose without any heat, exhibiting a super oaky but dark wet char that's not spicy or overpowering. The bourbon barrel also delivers a lightly sharp toasted coconut scent as it warms. Intenesly rich and smoky maple flavors are met with a deeply earthy, dark roasted coffee that I don't recall getting as much of in the numerous Mornin' Delight pours and bottles I've had over the years. Raisinets and dark cocoa wafer intermingle with the aforementioned flavors, while a substantial charred oak and bourbon complexity amps KBBS up considerably. The black peppery woodiness adds a mild heat, and the divine maple aftertaste lingers forever, with a nicely warm exhale. The super viscous and velvety thick body suppresses the bourbon heat well. A slow to surface fizz brings a faint sting with it during the sticky, semi-dry yet impossibly round swallow. As you get to the bottom of the glass, it thins out a bit and becomes a bit boozier and less complex, but such is life. Nothing is ever really perfect, is it? 2014 vintage, gold wax\", \"This is the beer that I always thought Morning Delight should be - the maple syrup is prominent in the nose and taste, but not so forward and overwhelming that it becomes a bit cloying and unpleasant. The barrel is a bit subdued, but still comes through clearly. KBBS is a once in a lifetime beer that I am sure I'll be chasing for a while now. As I shared this bottle with five friends, I only received about a two ounce pour - which I nursed for a bit and smelled more than tasted. It's so sweet that I think it is best enjoyed as well - let it warm up, let the oily texture because a little more fluid. It's a tremendous beer and best enjoyed very slowly.\", 'A buddy of mine called me one night and said that I needed to come over and try this new beer he found. Man am I glad I did because it was and is the best stout I have ever had!', 'its always an occasion to drink what is deemed on this website to be the best beer in the world. regardless of what one may think about how such rankings are figured, it is a treat to say the least. i remember when i was heady and westy 12 before that, times have changed! after a couple of narrowly missed opportunities to drink this one over the years, my man drlovemd87 came through in the clutch with this rarest of the rare bottle. my pour is as thick as paste, slick and black like crude oil, and without hardly any head to it, near still in appearance, shiny, almost gelatinous looking. the aroma and flavor are intense but unfortunately (to me) familiar, i wanted this to be strikingly different, at least from a quality standpoint, and as good as it all is, its not head and shoulders above all else, it might not even be my favorite barrel aged coffee stout i have had this year (shhh). a few things are immediately obvious to me. the first is that whatever barrels these were, they seem to have housed some excellent whiskey. its not more or less of it, nothing about the oak profile specifically, but the bourbon character itself seems obviously better than most of what else is out there, this i will grant. the second thing, is that saying something like this is objectively better than something else in its category that is notable and near perfect and all of that, is highly problematic, approximations and cloudy memories and nothing more than opinion. factually, this isnt that much better than any number of great beers in its field, and i will stand by that. i cant spend the whole time drinking this thinking about the merits of a ratings system i dont control or other beers i like better though, that would be a foolishly wasted opportunity to enjoy quite literally the best. its full of rich bourbon, heavy vanilla and maple syrup qualities, even the texture of maple syrup, tons of barrel char and earthy burnt dark grain and chocolate, and a well integrated high end coffee profile as well, in some ways quite simple, but impossibly mature and nuanced, enhanced magically by the whiskey, and with lingering sweet, bitter, raisin, cocoa, and bourbon character. its as good as they say it is, that is not my comment. my comment is that others are at this level too. i am enormously thankful to have been able to drink this one, especially without having to pay the absurd secondary market prices this is fetching. if you are considering dropping some coin for this on a forum or whatever, i would reconsider, not that this isnt awesome, but its likely that your local bottle shop or brewery has something comparable...', 'Love the huge maple up front with balanced whiskey, subtle coffee, dark cocoa; semisweet, wee cinnamon, big whiskey, the coffee is superb. Yet bitter, bold, and some plum, too for flavors; luscious, creamy mouthfeel that lasts and lasts; bitter, sweet, whiskey, roasty finish.', 'Jet black with minimal head and a shiny oily luster. The nose and taste is big coffee upfront and settles into more of a Maple and Bourbon focus as it warms, however all three of the Coffee, Maple, and Bourbon remain throughout and interact well as it warms. The mouthfeel is an absolute 5 from the chilly beginning though the warm finish, with smooth sticky oil-like viscosity. Easily meets the hype, never had better!', \"Batch 3 (2016), Bottle #882. 12 oz bottle split three ways into TG tulips. Upon opening, immediate maple syrup aromas fill the area. Pours a jet black, oily body with a small brown head that reduces quickly. The surface has a slick and oily texture. Once in the glass the aromas intensify, with some coffee and bourbon coming through now, but maple syrup still dominates. It's odd, this smells more like maple syrup that actual maple syrup. Not artificial in the least bit. Taste is pure and smooth, rich maple and bourbon fudge, more maple, sweet but not cloying, finishing with roasty coffee notes. Mouthfeel is what put this beer at the top for me. Rich, thick, velvety, easy. I've never given a beer all 5's, but I can't find any flaws here. The thicker body puts it a hair above Good Morning. To put the intense maple flavor profile of this beer in perspective, my kitchen still smelled like maple syrup the next morning.\", '2016 batch poured into a TG tulip. Upon opening, maple just filled the room. Tons of maple. Look is super viscous. Motor oil like. Opaque black. Coats the glass. Taste is all maple up front and then finishes with a coffee flavor that I found to be a touch astringent. Faded as it warmed though. Feel was super thick, viscous body. Coated my mouth and lingered. Overall, this is one of the best beers I’ve ever had. Simply amazing flavors with the maple and coffee working together while maintaining balance.', \"Incredible. Really exceptional. Most certainly the best smelling beer I've ever had. My buddy kept the bottle and it still smells like we just opened it, months later. Fills the room. Mouthfeel is thick and fudgy, espresso notes with that amazing maple and cocoa. Can't wait to drink my other one!\", 'Wow. More than lucky to be able to split a bottle of this with their own brewmaster! Lives up to the hype, the flavors keep changing in your mouth and you taste a whole buffet of breakfast, bourbon barrel adds some sweetness. Sticky and coats your mouth and throat and the taste lingers for a long time. TG creates some magnificent beers.', 'L: Dinosaur blood with a chocolate milk head. Ultra thick lacing with great legs like T-Swizzle. S: Coffee, chocolate, maple, and whiskey (nothing new here, just basically copying and pasting what everyone else says). Once you pop the waxed top, the smell of good old fashioned Walmart-style American breakfast wafts throughout the room, lingering for hours to remind you of its greatness, cancelling out all other scents in the air like a heavenly beer Febreze. T: Imagine a chewy, whiskey-dipped brownie corner -chased with a shot of maple syrup infused roasted coffee- that assaults your palate with a heavy, sugary sweetness that brings you back to the warm and blissful memories of childhood. This is Mornin\\' Delight elevated to god-tier status with the help from a little time spent in whiskey barrels. The result is sinfully divine. M: Viscous and unctuous with the perfect amount of carbonation; this the beer that Untappd cicerones dream of when they discuss the term \"mouthfeel.\" This beer sticks to your membranes like Grandma\\'s classic biscuits and gravy. It is magical. It makes you not want to brush your teeth at night. O: This is one of the best beers on the planet. However, I expected a life-altering craft beer experience when I opened my hand numbered bottle of Kentucky Brunch Brand Stout (note: a bottle that was hand-handed to me by Mike at Toppling Goliath), and all I got in return was an amazingly good beer and a fantastic evening together with family. Overall, it was a terrific occasion and a memorable event, but not one that stands out in my mind as one of the greatest moments of my existence. I drank a $1,200 bottle of beer hoping to redefine the culinary dreams of my adulthood and came out on the other side realizing that it was \"just beer.\" I am now ready to retire from the world of craft beer.', 'This beer turned out to be everything I wanted it to be. Great maple and coffee nose. Mouthfeel was viscous and coated the inside of my mouth, carrying those maple and coffee flavors with it. Delicious', \"Huge maple aroma right out of the gate and a vicious, dark pour. Maple dominates the nose but chocolate, barrel, and some coffee see also present. The mouth feel is massive and coats the mouth for days with adequate carbonation. It all makes for an impressive experience, but the taste falls well short of world class. There is a sour note that I also found in Mornin Delight. Some reviews have described it as coffee bitterness, but that's not what I get. It tastes like an off flavor. Since I've tasted the same thing twice I'm quite sure this isn't just a bad bottle. I'm not a fan of MD and the barrel aged version doesn't cover over the flaws.\"]\n"
     ]
    }
   ],
   "source": [
    "driver = webdriver.Chrome(r\"C:\\Users\\jakeh\\Downloads\\chromedriver_win32\\chromedriver.exe\")\n",
    "#open up the page\n",
    "driver.get('https://www.beeradvocate.com/beer/profile/23222/78820/')\n",
    "\n",
    "# create DataFrame\n",
    "# need product name, product review, and user rating\n",
    "reviews = pd.DataFrame(columns = ['product_name', 'review', 'user_rating']) \n",
    "\n",
    "product_name_element = driver.find_element_by_xpath(\"//*[contains(@class,'titleBar')]\")\n",
    "product_name_str = product_name_element.text\n",
    "product_name = product_name_str.splitlines()[0]\n",
    "\n",
    "comments = driver.find_elements_by_xpath(\"//*[contains(@class,'user-comment')]\")\n",
    "# comment_ids = []\n",
    "\n",
    "user_ratings = []\n",
    "j = 0\n",
    "# to get rating\n",
    "for i in comments:\n",
    "        # comment_ids.append(i.get_attribute('ba-user'))\n",
    "        user_rating_element = driver.find_elements_by_xpath(\"//*[contains(@class,'BAscore_norm')]\")[j]\n",
    "        user_rating = user_rating_element.text\n",
    "        user_ratings.append(user_rating)\n",
    "        j += 1\n",
    "\n",
    "# to get review\n",
    "reviews = []\n",
    "for i in comments:\n",
    "    review_element = driver.find_element_by_xpath(\"/html/body/div[2]/div/div[2]/div[2]/div[2]/div/div/div[3]/div/div/div[2]/div[8]/div/div[\" + str(j+1) + \"]/div[2]\")\n",
    "    review = review_element.text\n",
    "    \n",
    "    a = review.splitlines()[3:-4]\n",
    "    \n",
    "    m = 0\n",
    "    for i in a:\n",
    "        if i == '':\n",
    "            del a[m]\n",
    "        m+=1\n",
    "    \n",
    "    a = ' '.join(a)\n",
    "    \n",
    "    reviews.append(a)\n",
    "    j+=1\n",
    "    \n",
    "print(reviews)\n",
    "driver.close()"
   ]
  },
  {
   "cell_type": "code",
   "execution_count": 103,
   "metadata": {},
   "outputs": [
    {
     "data": {
      "text/plain": [
       "\"Batch one, 2013, Enjoyed at GAB bottle share Pitch black thick oily rich, thick legs, touch of head Nose loads of maple thick dark chocolate, cocoa, hint Smokey, roasty coffee, coffee syrup, nice barrel vanilla and thick maple, vanilla ice cream Taste velvety creamy smooth thick dark chocolate, cocoa, big maple syrup, vanilla ice cream, touch of Smokey, roasty coffee, lurker nutty coffee and hint of bitterness, mild toasted oak vanilla barrel, no booze, earthy coffee late, thick dark chocolate Mouth is thick rich creamy, velvety smooth, no alcohol Overall incredible! Easily one of best beers I've ever had.\""
      ]
     },
     "execution_count": 103,
     "metadata": {},
     "output_type": "execute_result"
    }
   ],
   "source": [
    "reviews[11]"
   ]
  },
  {
   "cell_type": "code",
   "execution_count": 92,
   "metadata": {},
   "outputs": [],
   "source": [
    "test = reviews[11]"
   ]
  },
  {
   "cell_type": "code",
   "execution_count": 100,
   "metadata": {},
   "outputs": [
    {
     "name": "stdout",
     "output_type": "stream",
     "text": [
      "Batch one, 2013, Enjoyed at GAB bottle share Pitch black thick oily rich, thick legs, touch of head Nose loads of maple thick dark chocolate, cocoa, hint Smokey, roasty coffee, coffee syrup, nice barrel vanilla and thick maple, vanilla ice cream Taste velvety creamy smooth thick dark chocolate, cocoa, big maple syrup, vanilla ice cream, touch of Smokey, roasty coffee, lurker nutty coffee and hint of bitterness, mild toasted oak vanilla barrel, no booze, earthy coffee late, thick dark chocolate Mouth is thick rich creamy, velvety smooth, no alcohol Overall incredible! Easily one of best beers I've ever had.\n"
     ]
    }
   ],
   "source": [
    "m = 0\n",
    "for i in test:\n",
    "    if i == '':\n",
    "        # print(i+\"yeet\")\n",
    "        del test[m]\n",
    "        # print(i)\n",
    "    m+=1\n",
    "test = ' '.join(test)\n",
    "print(test)"
   ]
  },
  {
   "cell_type": "code",
   "execution_count": 45,
   "metadata": {},
   "outputs": [
    {
     "data": {
      "text/plain": [
       "['4.8/5  rDev -2%',\n",
       " 'look: 4.75 | smell: 4.75 | taste: 4.75 | feel: 4.75 | overall: 5',\n",
       " '',\n",
       " '2016 Silver Wax. Aroma has whiskey, maple, toffee and umami. Taste has wood barrel, umami, dark fruit, maple and toffee. Bitter cacao and coffee aftertaste.',\n",
       " '',\n",
       " ' 156 characters',\n",
       " '',\n",
       " 'Ciocanelu, Oct 29, 2019']"
      ]
     },
     "execution_count": 45,
     "metadata": {},
     "output_type": "execute_result"
    }
   ],
   "source": [
    "reviews[0].splitlines()"
   ]
  },
  {
   "cell_type": "code",
   "execution_count": 66,
   "metadata": {},
   "outputs": [
    {
     "data": {
      "text/plain": [
       "\"Dark black, very thick, a little bit of tan head. Smells amazing - coffee and a little bit of maple jump out at you, along with chocolate and vanilla and other sweet smells. The taste is no letdown either, coffee is more up front, and maple is on the back end, with a lot of caramel / chocolate / dark fruit in the middle. Super thick mouthfeel with zero alcohol burn. I was fully prepared to be disappointed by this beer - not that I expected it to be bad, but just that it might not blow me away. I was wrong. Probably the best beer I've ever had.\""
      ]
     },
     "execution_count": 66,
     "metadata": {},
     "output_type": "execute_result"
    }
   ],
   "source": [
    "a = reviews[3].splitlines()[3:-4]\n",
    "del a[1::2]\n",
    "a\n",
    "' '.join(a)"
   ]
  },
  {
   "cell_type": "code",
   "execution_count": 23,
   "metadata": {},
   "outputs": [
    {
     "data": {
      "text/plain": [
       "'Kentucky Brunch Brand Stout'"
      ]
     },
     "execution_count": 23,
     "metadata": {},
     "output_type": "execute_result"
    }
   ],
   "source": [
    "product_name.splitlines()[0]"
   ]
  },
  {
   "cell_type": "code",
   "execution_count": 28,
   "metadata": {},
   "outputs": [
    {
     "name": "stdout",
     "output_type": "stream",
     "text": [
      "25\n"
     ]
    }
   ],
   "source": [
    "print(len(user_ratings))"
   ]
  }
 ],
 "metadata": {
  "kernelspec": {
   "display_name": "Python 3",
   "language": "python",
   "name": "python3"
  },
  "language_info": {
   "codemirror_mode": {
    "name": "ipython",
    "version": 3
   },
   "file_extension": ".py",
   "mimetype": "text/x-python",
   "name": "python",
   "nbconvert_exporter": "python",
   "pygments_lexer": "ipython3",
   "version": "3.7.4"
  }
 },
 "nbformat": 4,
 "nbformat_minor": 2
}
